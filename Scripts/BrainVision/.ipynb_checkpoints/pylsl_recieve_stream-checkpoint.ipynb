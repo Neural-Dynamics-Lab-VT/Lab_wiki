{
 "cells": [
  {
   "cell_type": "markdown",
   "metadata": {},
   "source": [
    "# Recieve Stream from LSL"
   ]
  },
  {
   "cell_type": "code",
   "execution_count": 2,
   "metadata": {},
   "outputs": [],
   "source": [
    "from pylsl import StreamInlet, resolve_stream\n",
    "import matplotlib.pyplot as plt\n",
    "%matplotlib inline"
   ]
  },
  {
   "cell_type": "markdown",
   "metadata": {},
   "source": [
    "#### Connect to LSL and discover streams on it\n",
    "\n",
    "In this example we are using type of the stream, the other options are specifed `StreamInfo()` described in the pylsl library "
   ]
  },
  {
   "cell_type": "code",
   "execution_count": 3,
   "metadata": {
    "collapsed": true
   },
   "outputs": [],
   "source": [
    "streams = resolve_stream('type','EEG')"
   ]
  },
  {
   "cell_type": "code",
   "execution_count": 4,
   "metadata": {
    "collapsed": true
   },
   "outputs": [],
   "source": [
    "# Create a new inlet to read the data from the stream.\n",
    "# Select the first stream! To check all the streams we can use the LabRecorder tool\n",
    "inlet = StreamInlet(streams[0])"
   ]
  },
  {
   "cell_type": "code",
   "execution_count": 6,
   "metadata": {},
   "outputs": [
    {
     "name": "stdout",
     "output_type": "stream",
     "text": [
      "timestamp = 164029.357515443\n",
      " -- Sample --\n",
      "sample size = 6\n",
      "sample datatype = <class 'list'>\n",
      "sample data - \n",
      "\n"
     ]
    },
    {
     "data": {
      "text/plain": [
       "[0.6276069283485413,\n",
       " 1.0337258577346802,\n",
       " 0.050052374601364136,\n",
       " 1.8605296611785889,\n",
       " 0.986238420009613,\n",
       " 0.0]"
      ]
     },
     "execution_count": 6,
     "metadata": {},
     "output_type": "execute_result"
    }
   ],
   "source": [
    "sample, timestamp = inlet.pull_sample()\n",
    "print('timestamp = '+str(timestamp))\n",
    "print(' -- Sample --')\n",
    "print('sample size = '+str(len(sample)))\n",
    "print('sample datatype = '+str(type(sample)))\n",
    "print('sample data - \\n')\n",
    "sample"
   ]
  },
  {
   "cell_type": "code",
   "execution_count": 9,
   "metadata": {},
   "outputs": [
    {
     "data": {
      "text/plain": [
       "32"
      ]
     },
     "execution_count": 9,
     "metadata": {},
     "output_type": "execute_result"
    }
   ],
   "source": []
  },
  {
   "cell_type": "code",
   "execution_count": null,
   "metadata": {
    "collapsed": true
   },
   "outputs": [],
   "source": []
  }
 ],
 "metadata": {
  "kernelspec": {
   "display_name": "Python 3",
   "language": "python",
   "name": "python3"
  }
 },
 "nbformat": 4,
 "nbformat_minor": 2
}
