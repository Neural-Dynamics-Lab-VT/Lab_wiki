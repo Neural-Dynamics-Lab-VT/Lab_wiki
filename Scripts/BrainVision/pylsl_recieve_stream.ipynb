{
 "cells": [
  {
   "cell_type": "markdown",
   "metadata": {},
   "source": [
    "# Recieve Stream from LSL"
   ]
  },
  {
   "cell_type": "code",
   "execution_count": 2,
   "metadata": {
    "collapsed": true
   },
   "outputs": [],
   "source": [
    "from pylsl import StreamInlet, resolve_stream\n",
    "import matplotlib.pyplot as plt\n",
    "%matplotlib inline"
   ]
  },
  {
   "cell_type": "markdown",
   "metadata": {},
   "source": [
    "#### Connect to LSL and discover streams on it\n",
    "\n",
    "In this example we are using type of the stream, the other options are specifed `StreamInfo()` described in the pylsl library "
   ]
  },
  {
   "cell_type": "code",
   "execution_count": 5,
   "metadata": {},
   "outputs": [],
   "source": [
    "streams = resolve_stream('type','EEG')"
   ]
  },
  {
   "cell_type": "code",
   "execution_count": 6,
   "metadata": {},
   "outputs": [],
   "source": [
    "# Create a new inlet to read the data from the stream.\n",
    "# Select the first stream! To check all the streams we can use the LabRecorder tool\n",
    "inlet = StreamInlet(streams[0])"
   ]
  },
  {
   "cell_type": "code",
   "execution_count": 14,
   "metadata": {},
   "outputs": [
    {
     "name": "stdout",
     "output_type": "stream",
     "text": [
      "timestamp = 165501.87717785905\n",
      " -- Sample --\n",
      "sample size = 32\n",
      "sample datatype = <class 'list'>\n",
      "sample data - \n",
      "\n"
     ]
    },
    {
     "data": {
      "text/plain": [
       "[32.0,\n",
       " 52.5,\n",
       " 42.70000076293945,\n",
       " 50.70000076293945,\n",
       " 22.0,\n",
       " 6.200000286102295,\n",
       " 42.900001525878906,\n",
       " 40.60000228881836,\n",
       " 39.60000228881836,\n",
       " 17.600000381469727,\n",
       " 16.80000114440918,\n",
       " 17.0,\n",
       " 1.600000023841858,\n",
       " 12.0,\n",
       " -0.800000011920929,\n",
       " 17.80000114440918,\n",
       " 23.0,\n",
       " 31.200000762939453,\n",
       " 54.60000228881836,\n",
       " 53.0,\n",
       " 58.400001525878906,\n",
       " 45.10000228881836,\n",
       " 36.29999923706055,\n",
       " -487.3999938964844,\n",
       " 61.60000228881836,\n",
       " -7.700000286102295,\n",
       " 68.30000305175781,\n",
       " 61.0,\n",
       " 63.10000228881836,\n",
       " 54.60000228881836,\n",
       " 59.0,\n",
       " 2971.199951171875]"
      ]
     },
     "execution_count": 14,
     "metadata": {},
     "output_type": "execute_result"
    }
   ],
   "source": [
    "sample, timestamp = inlet.pull_sample()\n",
    "print('timestamp = '+str(timestamp))\n",
    "print(' -- Sample --')\n",
    "print('sample size = '+str(len(sample)))\n",
    "print('sample datatype = '+str(type(sample)))\n",
    "print('sample data - \\n')\n",
    "sample"
   ]
  },
  {
   "cell_type": "code",
   "execution_count": 9,
   "metadata": {},
   "outputs": [
    {
     "data": {
      "text/plain": [
       "32"
      ]
     },
     "execution_count": 9,
     "metadata": {},
     "output_type": "execute_result"
    }
   ],
   "source": []
  },
  {
   "cell_type": "code",
   "execution_count": null,
   "metadata": {
    "collapsed": true
   },
   "outputs": [],
   "source": []
  }
 ],
 "metadata": {
  "kernelspec": {
   "display_name": "Python 3",
   "language": "python",
   "name": "python3"
  },
  "language_info": {
   "codemirror_mode": {
    "name": "ipython",
    "version": 3
   },
   "file_extension": ".py",
   "mimetype": "text/x-python",
   "name": "python",
   "nbconvert_exporter": "python",
   "pygments_lexer": "ipython3",
   "version": "3.6.3"
  }
 },
 "nbformat": 4,
 "nbformat_minor": 2
}
